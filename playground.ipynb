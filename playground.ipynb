{
 "cells": [
  {
   "cell_type": "code",
   "execution_count": 2,
   "metadata": {},
   "outputs": [],
   "source": [
    "from pygbif import occurrences"
   ]
  },
  {
   "cell_type": "code",
   "execution_count": 3,
   "metadata": {},
   "outputs": [],
   "source": [
    "x = occurrences.search(mediatype = 'Sound', offset=300)"
   ]
  },
  {
   "cell_type": "code",
   "execution_count": 4,
   "metadata": {},
   "outputs": [
    {
     "name": "stdout",
     "output_type": "stream",
     "text": [
      "key\n",
      "datasetKey\n",
      "publishingOrgKey\n",
      "installationKey\n",
      "hostingOrganizationKey\n",
      "publishingCountry\n",
      "protocol\n",
      "lastCrawled\n",
      "lastParsed\n",
      "crawlId\n",
      "projectId\n",
      "extensions\n",
      "basisOfRecord\n",
      "occurrenceStatus\n",
      "lifeStage\n",
      "taxonKey\n",
      "kingdomKey\n",
      "phylumKey\n",
      "classKey\n",
      "orderKey\n",
      "familyKey\n",
      "genusKey\n",
      "speciesKey\n",
      "acceptedTaxonKey\n",
      "scientificName\n",
      "acceptedScientificName\n",
      "kingdom\n",
      "phylum\n",
      "order\n",
      "family\n",
      "genus\n",
      "species\n",
      "genericName\n",
      "specificEpithet\n",
      "taxonRank\n",
      "taxonomicStatus\n",
      "iucnRedListCategory\n",
      "dateIdentified\n",
      "decimalLatitude\n",
      "decimalLongitude\n",
      "coordinateUncertaintyInMeters\n",
      "continent\n",
      "stateProvince\n",
      "gadm\n",
      "year\n",
      "month\n",
      "day\n",
      "eventDate\n",
      "startDayOfYear\n",
      "endDayOfYear\n",
      "issues\n",
      "modified\n",
      "lastInterpreted\n",
      "references\n",
      "license\n",
      "isSequenced\n",
      "identifiers\n",
      "media\n",
      "facts\n",
      "relations\n",
      "isInCluster\n",
      "datasetName\n",
      "recordedBy\n",
      "identifiedBy\n",
      "geodeticDatum\n",
      "class\n",
      "countryCode\n",
      "recordedByIDs\n",
      "identifiedByIDs\n",
      "country\n",
      "gbifRegion\n",
      "publishedByGbifRegion\n",
      "rightsHolder\n",
      "identifier\n",
      "http://unknown.org/nick\n",
      "verbatimEventDate\n",
      "dynamicProperties\n",
      "verbatimLocality\n",
      "collectionCode\n",
      "gbifID\n",
      "occurrenceID\n",
      "taxonID\n",
      "catalogNumber\n",
      "institutionCode\n",
      "vitality\n",
      "eventTime\n",
      "http://unknown.org/captive\n",
      "identificationID\n"
     ]
    }
   ],
   "source": [
    "for entry in x[\"results\"][0].keys():\n",
    "    print(entry)"
   ]
  },
  {
   "cell_type": "code",
   "execution_count": 5,
   "metadata": {},
   "outputs": [
    {
     "data": {
      "text/plain": [
       "'https://inaturalist-open-data.s3.amazonaws.com/photos/461264691/original.jpg'"
      ]
     },
     "execution_count": 5,
     "metadata": {},
     "output_type": "execute_result"
    }
   ],
   "source": [
    "x[\"results\"][0][\"media\"][1][\"identifier\"]\n"
   ]
  },
  {
   "cell_type": "code",
   "execution_count": 12,
   "metadata": {},
   "outputs": [],
   "source": [
    "from pygbif import species\n",
    "import random"
   ]
  },
  {
   "cell_type": "code",
   "execution_count": 34,
   "metadata": {},
   "outputs": [
    {
     "data": {
      "text/plain": [
       "{'key': 4002,\n",
       " 'nameKey': 9559750,\n",
       " 'kingdom': 'Animalia',\n",
       " 'phylum': 'Arthropoda',\n",
       " 'order': 'Chordeumatida',\n",
       " 'family': 'Pygmaeosomatidae',\n",
       " 'kingdomKey': 1,\n",
       " 'phylumKey': 54,\n",
       " 'classKey': 361,\n",
       " 'orderKey': 1017,\n",
       " 'familyKey': 4002,\n",
       " 'parent': 'Chordeumatida',\n",
       " 'parentKey': 1017,\n",
       " 'nubKey': 4002,\n",
       " 'scientificName': 'Pygmaeosomatidae',\n",
       " 'canonicalName': 'Pygmaeosomatidae',\n",
       " 'rank': 'FAMILY',\n",
       " 'status': 'ACCEPTED',\n",
       " 'higherClassificationMap': {'1': 'Animalia',\n",
       "  '54': 'Arthropoda',\n",
       "  '361': 'Diplopoda',\n",
       "  '1017': 'Chordeumatida'},\n",
       " 'synonym': False,\n",
       " 'class': 'Diplopoda'}"
      ]
     },
     "execution_count": 34,
     "metadata": {},
     "output_type": "execute_result"
    }
   ],
   "source": [
    "found_species = species.name_suggest(q=\"\", offset=random.randint(0,10000), limit=1)\n",
    "found_species[0]"
   ]
  },
  {
   "cell_type": "code",
   "execution_count": null,
   "metadata": {},
   "outputs": [],
   "source": [
    "len(occurrences.search(taxonKey=found_species[0][\"key\"], mediatype=\"Sound\")[\"results\"])"
   ]
  }
 ],
 "metadata": {
  "kernelspec": {
   "display_name": "Python 3",
   "language": "python",
   "name": "python3"
  },
  "language_info": {
   "codemirror_mode": {
    "name": "ipython",
    "version": 3
   },
   "file_extension": ".py",
   "mimetype": "text/x-python",
   "name": "python",
   "nbconvert_exporter": "python",
   "pygments_lexer": "ipython3",
   "version": "3.11.11"
  }
 },
 "nbformat": 4,
 "nbformat_minor": 2
}
